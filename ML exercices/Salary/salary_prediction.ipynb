{
 "cells": [
  {
   "cell_type": "code",
   "execution_count": 96,
   "metadata": {},
   "outputs": [
    {
     "name": "stdout",
     "output_type": "stream",
     "text": [
      "kaggle\\Salary.csv\n"
     ]
    }
   ],
   "source": [
    "import numpy as np \n",
    "import pandas as pd \n",
    "import os\n",
    "import tensorflow as tf \n",
    "import matplotlib.pyplot as plt\n",
    "\n",
    "\n",
    "for dirname, _, filenames in os.walk('kaggle'):\n",
    "    for filename in filenames:\n",
    "        print(os.path.join(dirname, filename))"
   ]
  },
  {
   "cell_type": "code",
   "execution_count": 97,
   "metadata": {},
   "outputs": [
    {
     "data": {
      "text/html": [
       "<div>\n",
       "<style scoped>\n",
       "    .dataframe tbody tr th:only-of-type {\n",
       "        vertical-align: middle;\n",
       "    }\n",
       "\n",
       "    .dataframe tbody tr th {\n",
       "        vertical-align: top;\n",
       "    }\n",
       "\n",
       "    .dataframe thead th {\n",
       "        text-align: right;\n",
       "    }\n",
       "</style>\n",
       "<table border=\"1\" class=\"dataframe\">\n",
       "  <thead>\n",
       "    <tr style=\"text-align: right;\">\n",
       "      <th></th>\n",
       "      <th>YearsExperience</th>\n",
       "      <th>Salary</th>\n",
       "    </tr>\n",
       "  </thead>\n",
       "  <tbody>\n",
       "    <tr>\n",
       "      <th>0</th>\n",
       "      <td>1.1</td>\n",
       "      <td>39343</td>\n",
       "    </tr>\n",
       "    <tr>\n",
       "      <th>1</th>\n",
       "      <td>1.3</td>\n",
       "      <td>46205</td>\n",
       "    </tr>\n",
       "    <tr>\n",
       "      <th>2</th>\n",
       "      <td>1.5</td>\n",
       "      <td>37731</td>\n",
       "    </tr>\n",
       "    <tr>\n",
       "      <th>3</th>\n",
       "      <td>2.0</td>\n",
       "      <td>43525</td>\n",
       "    </tr>\n",
       "    <tr>\n",
       "      <th>4</th>\n",
       "      <td>2.2</td>\n",
       "      <td>39891</td>\n",
       "    </tr>\n",
       "  </tbody>\n",
       "</table>\n",
       "</div>"
      ],
      "text/plain": [
       "   YearsExperience  Salary\n",
       "0              1.1   39343\n",
       "1              1.3   46205\n",
       "2              1.5   37731\n",
       "3              2.0   43525\n",
       "4              2.2   39891"
      ]
     },
     "execution_count": 97,
     "metadata": {},
     "output_type": "execute_result"
    }
   ],
   "source": [
    "TotalDataset = pd.read_csv(\"kaggle/Salary.csv\")\n",
    "TotalDataset.head()"
   ]
  },
  {
   "cell_type": "code",
   "execution_count": 98,
   "metadata": {},
   "outputs": [],
   "source": [
    "#separando o training set e o test set\n",
    "\n",
    "from sklearn.model_selection import train_test_split\n",
    "\n",
    "x = TotalDataset['Salary']\n",
    "y = TotalDataset['YearsExperience']\n",
    "\n",
    "x_train, x_test, y_train,  y_test = train_test_split(x, y, test_size=0.2, random_state=42)"
   ]
  },
  {
   "cell_type": "code",
   "execution_count": 99,
   "metadata": {},
   "outputs": [],
   "source": [
    "def build_model(my_learning_rate):\n",
    "  \"\"\"Create and compile a simple linear regression model.\"\"\"\n",
    "  # Most simple tf.keras models are sequential.\n",
    "  model = tf.keras.models.Sequential()\n",
    "\n",
    "  # Add one linear layer to the model to yield a simple linear regressor.\n",
    "  model.add(tf.keras.layers.Dense(units=1, input_shape=(1,)))\n",
    "\n",
    "  # Compile the model topography into code that TensorFlow can efficiently\n",
    "  # execute. Configure training to minimize the model's mean squared error. \n",
    "  model.compile(optimizer=tf.keras.optimizers.RMSprop(learning_rate=my_learning_rate),\n",
    "                loss=\"mean_squared_error\",\n",
    "                metrics=[tf.keras.metrics.RootMeanSquaredError()])\n",
    "\n",
    "  return model               "
   ]
  },
  {
   "cell_type": "code",
   "execution_count": 100,
   "metadata": {},
   "outputs": [
    {
     "name": "stdout",
     "output_type": "stream",
     "text": [
      "Defined the build_model and train_model functions.\n"
     ]
    }
   ],
   "source": [
    "def train_model(model, feature, label, my_epochs, \n",
    "                my_batch_size=None, my_validation_split=0.2):\n",
    "  \"\"\"Feed a dataset into the model in order to train it.\"\"\"\n",
    "\n",
    "  history = model.fit(x=feature,\n",
    "                      y=label,\n",
    "                      batch_size=my_batch_size,\n",
    "                      epochs=my_epochs,\n",
    "                      validation_split=my_validation_split)\n",
    "\n",
    "  # Gather the model's trained weight and bias.\n",
    "  trained_weight = model.get_weights()[0]\n",
    "  trained_bias = model.get_weights()[1]\n",
    "\n",
    "  # The list of epochs is stored separately from the \n",
    "  # rest of history.\n",
    "  epochs = history.epoch\n",
    "  \n",
    "  # Isolate the root mean squared error for each epoch.\n",
    "  hist = pd.DataFrame(history.history)\n",
    "  rmse = hist[\"root_mean_squared_error\"]\n",
    "\n",
    "  return epochs, rmse, history.history   \n",
    "\n",
    "print(\"Defined the build_model and train_model functions.\")"
   ]
  },
  {
   "cell_type": "code",
   "execution_count": 101,
   "metadata": {},
   "outputs": [
    {
     "name": "stdout",
     "output_type": "stream",
     "text": [
      "Defined the plot_the_loss_curve function.\n"
     ]
    }
   ],
   "source": [
    "def plot_the_loss_curve(epochs, mae_training, mae_validation):\n",
    "  \"\"\"Plot a curve of loss vs. epoch.\"\"\"\n",
    "\n",
    "  plt.figure()\n",
    "  plt.xlabel(\"Epoch\")\n",
    "  plt.ylabel(\"Root Mean Squared Error\")\n",
    "\n",
    "  plt.plot(epochs[1:], mae_training[1:], label=\"Training Loss\")\n",
    "  plt.plot(epochs[1:], mae_validation[1:], label=\"Validation Loss\")\n",
    "  plt.legend()\n",
    "  \n",
    "  # We're not going to plot the first epoch, since the loss on the first epoch\n",
    "  # is often substantially greater than the loss for other epochs.\n",
    "  merged_mae_lists = mae_training[1:] + mae_validation[1:]\n",
    "  highest_loss = max(merged_mae_lists)\n",
    "  lowest_loss = min(merged_mae_lists)\n",
    "  delta = highest_loss - lowest_loss\n",
    "  print(delta)\n",
    "\n",
    "  top_of_y_axis = highest_loss + (delta * 0.05)\n",
    "  bottom_of_y_axis = lowest_loss - (delta * 0.05)\n",
    "   \n",
    "  plt.ylim([bottom_of_y_axis, top_of_y_axis])\n",
    "  plt.show()  \n",
    "\n",
    "print(\"Defined the plot_the_loss_curve function.\")"
   ]
  },
  {
   "cell_type": "code",
   "execution_count": 111,
   "metadata": {},
   "outputs": [
    {
     "name": "stdout",
     "output_type": "stream",
     "text": [
      "Epoch 1/75\n",
      "5/5 [==============================] - 0s 36ms/step - loss: 11064968192.0000 - root_mean_squared_error: 105190.1562 - val_loss: 12785435648.0000 - val_root_mean_squared_error: 113072.7031\n",
      "Epoch 2/75\n",
      "5/5 [==============================] - 0s 10ms/step - loss: 10426939392.0000 - root_mean_squared_error: 102112.3828 - val_loss: 12179756032.0000 - val_root_mean_squared_error: 110361.9297\n",
      "Epoch 3/75\n",
      "5/5 [==============================] - 0s 9ms/step - loss: 9956967424.0000 - root_mean_squared_error: 99784.6016 - val_loss: 11643999232.0000 - val_root_mean_squared_error: 107907.3672\n",
      "Epoch 4/75\n",
      "5/5 [==============================] - 0s 10ms/step - loss: 9534930944.0000 - root_mean_squared_error: 97646.9688 - val_loss: 11193771008.0000 - val_root_mean_squared_error: 105800.6172\n",
      "Epoch 5/75\n",
      "5/5 [==============================] - 0s 9ms/step - loss: 9171844096.0000 - root_mean_squared_error: 95769.7422 - val_loss: 10764209152.0000 - val_root_mean_squared_error: 103750.7031\n",
      "Epoch 6/75\n",
      "5/5 [==============================] - 0s 9ms/step - loss: 8814247936.0000 - root_mean_squared_error: 93884.2266 - val_loss: 10338919424.0000 - val_root_mean_squared_error: 101680.4766\n",
      "Epoch 7/75\n",
      "5/5 [==============================] - 0s 8ms/step - loss: 8475483648.0000 - root_mean_squared_error: 92062.3906 - val_loss: 9981418496.0000 - val_root_mean_squared_error: 99907.0469\n",
      "Epoch 8/75\n",
      "5/5 [==============================] - 0s 8ms/step - loss: 8176244736.0000 - root_mean_squared_error: 90422.5859 - val_loss: 9611047936.0000 - val_root_mean_squared_error: 98035.9531\n",
      "Epoch 9/75\n",
      "5/5 [==============================] - 0s 8ms/step - loss: 7863330304.0000 - root_mean_squared_error: 88675.4219 - val_loss: 9207192576.0000 - val_root_mean_squared_error: 95954.1172\n",
      "Epoch 10/75\n",
      "5/5 [==============================] - 0s 8ms/step - loss: 7546293760.0000 - root_mean_squared_error: 86869.4062 - val_loss: 8879617024.0000 - val_root_mean_squared_error: 94231.7188\n",
      "Epoch 11/75\n",
      "5/5 [==============================] - 0s 9ms/step - loss: 7265788416.0000 - root_mean_squared_error: 85239.5938 - val_loss: 8485658624.0000 - val_root_mean_squared_error: 92117.6328\n",
      "Epoch 12/75\n",
      "5/5 [==============================] - 0s 9ms/step - loss: 6953276416.0000 - root_mean_squared_error: 83386.3047 - val_loss: 8160556544.0000 - val_root_mean_squared_error: 90335.7969\n",
      "Epoch 13/75\n",
      "5/5 [==============================] - 0s 9ms/step - loss: 6677623808.0000 - root_mean_squared_error: 81716.7266 - val_loss: 7817525248.0000 - val_root_mean_squared_error: 88416.7734\n",
      "Epoch 14/75\n",
      "5/5 [==============================] - 0s 9ms/step - loss: 6394657280.0000 - root_mean_squared_error: 79966.6016 - val_loss: 7484203520.0000 - val_root_mean_squared_error: 86511.2891\n",
      "Epoch 15/75\n",
      "5/5 [==============================] - 0s 9ms/step - loss: 6123522048.0000 - root_mean_squared_error: 78252.9375 - val_loss: 7156255232.0000 - val_root_mean_squared_error: 84594.6562\n",
      "Epoch 16/75\n",
      "5/5 [==============================] - 0s 10ms/step - loss: 5851165696.0000 - root_mean_squared_error: 76492.9141 - val_loss: 6839848960.0000 - val_root_mean_squared_error: 82703.3828\n",
      "Epoch 17/75\n",
      "5/5 [==============================] - 0s 17ms/step - loss: 5588426240.0000 - root_mean_squared_error: 74755.7734 - val_loss: 6522908160.0000 - val_root_mean_squared_error: 80764.5234\n",
      "Epoch 18/75\n",
      "5/5 [==============================] - 0s 9ms/step - loss: 5328116736.0000 - root_mean_squared_error: 72993.9453 - val_loss: 6213649920.0000 - val_root_mean_squared_error: 78826.7109\n",
      "Epoch 19/75\n",
      "5/5 [==============================] - 0s 8ms/step - loss: 5078061568.0000 - root_mean_squared_error: 71260.5156 - val_loss: 5951296000.0000 - val_root_mean_squared_error: 77144.6406\n",
      "Epoch 20/75\n",
      "5/5 [==============================] - 0s 8ms/step - loss: 4852395520.0000 - root_mean_squared_error: 69659.1406 - val_loss: 5637047808.0000 - val_root_mean_squared_error: 75080.2734\n",
      "Epoch 21/75\n",
      "5/5 [==============================] - 0s 9ms/step - loss: 4602654208.0000 - root_mean_squared_error: 67842.8672 - val_loss: 5384514048.0000 - val_root_mean_squared_error: 73379.2500\n",
      "Epoch 22/75\n",
      "5/5 [==============================] - 0s 8ms/step - loss: 4396252672.0000 - root_mean_squared_error: 66304.2422 - val_loss: 5125957120.0000 - val_root_mean_squared_error: 71595.7891\n",
      "Epoch 23/75\n",
      "5/5 [==============================] - 0s 8ms/step - loss: 4178675200.0000 - root_mean_squared_error: 64642.6719 - val_loss: 4878680064.0000 - val_root_mean_squared_error: 69847.5469\n",
      "Epoch 24/75\n",
      "5/5 [==============================] - 0s 9ms/step - loss: 3973956352.0000 - root_mean_squared_error: 63039.3242 - val_loss: 4613692928.0000 - val_root_mean_squared_error: 67924.1719\n",
      "Epoch 25/75\n",
      "5/5 [==============================] - 0s 11ms/step - loss: 3750976768.0000 - root_mean_squared_error: 61245.2188 - val_loss: 4330337280.0000 - val_root_mean_squared_error: 65805.2969\n",
      "Epoch 26/75\n",
      "5/5 [==============================] - 0s 8ms/step - loss: 3525161984.0000 - root_mean_squared_error: 59373.0742 - val_loss: 4091837696.0000 - val_root_mean_squared_error: 63967.4727\n",
      "Epoch 27/75\n",
      "5/5 [==============================] - 0s 8ms/step - loss: 3331233536.0000 - root_mean_squared_error: 57716.8398 - val_loss: 3866169344.0000 - val_root_mean_squared_error: 62178.5273\n",
      "Epoch 28/75\n",
      "5/5 [==============================] - 0s 9ms/step - loss: 3150815232.0000 - root_mean_squared_error: 56132.1211 - val_loss: 3667228928.0000 - val_root_mean_squared_error: 60557.6484\n",
      "Epoch 29/75\n",
      "5/5 [==============================] - 0s 8ms/step - loss: 2977126144.0000 - root_mean_squared_error: 54563.0469 - val_loss: 3433065216.0000 - val_root_mean_squared_error: 58592.3633\n",
      "Epoch 30/75\n",
      "5/5 [==============================] - 0s 8ms/step - loss: 2789200640.0000 - root_mean_squared_error: 52812.8828 - val_loss: 3208133376.0000 - val_root_mean_squared_error: 56640.3867\n",
      "Epoch 31/75\n",
      "5/5 [==============================] - 0s 9ms/step - loss: 2608058112.0000 - root_mean_squared_error: 51069.1484 - val_loss: 3016325888.0000 - val_root_mean_squared_error: 54921.0859\n",
      "Epoch 32/75\n",
      "5/5 [==============================] - 0s 8ms/step - loss: 2445929472.0000 - root_mean_squared_error: 49456.3398 - val_loss: 2815957248.0000 - val_root_mean_squared_error: 53065.5938\n",
      "Epoch 33/75\n",
      "5/5 [==============================] - 0s 8ms/step - loss: 2287556352.0000 - root_mean_squared_error: 47828.4062 - val_loss: 2633110272.0000 - val_root_mean_squared_error: 51313.8398\n",
      "Epoch 34/75\n",
      "5/5 [==============================] - 0s 8ms/step - loss: 2132598912.0000 - root_mean_squared_error: 46180.0703 - val_loss: 2453000448.0000 - val_root_mean_squared_error: 49527.7734\n",
      "Epoch 35/75\n",
      "5/5 [==============================] - 0s 9ms/step - loss: 1984218240.0000 - root_mean_squared_error: 44544.5664 - val_loss: 2276822272.0000 - val_root_mean_squared_error: 47716.0586\n",
      "Epoch 36/75\n",
      "5/5 [==============================] - 0s 9ms/step - loss: 1845769856.0000 - root_mean_squared_error: 42962.4219 - val_loss: 2118330880.0000 - val_root_mean_squared_error: 46025.3281\n",
      "Epoch 37/75\n",
      "5/5 [==============================] - 0s 9ms/step - loss: 1713382912.0000 - root_mean_squared_error: 41393.0312 - val_loss: 1962409856.0000 - val_root_mean_squared_error: 44299.0938\n",
      "Epoch 38/75\n",
      "5/5 [==============================] - 0s 10ms/step - loss: 1583340032.0000 - root_mean_squared_error: 39791.2070 - val_loss: 1796487680.0000 - val_root_mean_squared_error: 42384.9922\n",
      "Epoch 39/75\n",
      "5/5 [==============================] - 0s 9ms/step - loss: 1448207232.0000 - root_mean_squared_error: 38055.3203 - val_loss: 1650650112.0000 - val_root_mean_squared_error: 40628.1953\n",
      "Epoch 40/75\n",
      "5/5 [==============================] - 0s 9ms/step - loss: 1328658944.0000 - root_mean_squared_error: 36450.7734 - val_loss: 1496560000.0000 - val_root_mean_squared_error: 38685.3984\n",
      "Epoch 41/75\n",
      "5/5 [==============================] - 0s 9ms/step - loss: 1203636736.0000 - root_mean_squared_error: 34693.4688 - val_loss: 1354323840.0000 - val_root_mean_squared_error: 36801.1406\n",
      "Epoch 42/75\n",
      "5/5 [==============================] - 0s 9ms/step - loss: 1089374336.0000 - root_mean_squared_error: 33005.6719 - val_loss: 1238448512.0000 - val_root_mean_squared_error: 35191.5977\n",
      "Epoch 43/75\n",
      "5/5 [==============================] - 0s 8ms/step - loss: 992190016.0000 - root_mean_squared_error: 31499.0488 - val_loss: 1109709568.0000 - val_root_mean_squared_error: 33312.3047\n",
      "Epoch 44/75\n",
      "5/5 [==============================] - 0s 18ms/step - loss: 890167744.0000 - root_mean_squared_error: 29835.6797 - val_loss: 999709952.0000 - val_root_mean_squared_error: 31618.1895\n",
      "Epoch 45/75\n",
      "5/5 [==============================] - 0s 10ms/step - loss: 800193600.0000 - root_mean_squared_error: 28287.6934 - val_loss: 901340608.0000 - val_root_mean_squared_error: 30022.3359\n",
      "Epoch 46/75\n",
      "5/5 [==============================] - 0s 9ms/step - loss: 719970496.0000 - root_mean_squared_error: 26832.2656 - val_loss: 801582080.0000 - val_root_mean_squared_error: 28312.2246\n",
      "Epoch 47/75\n",
      "5/5 [==============================] - 0s 9ms/step - loss: 637299968.0000 - root_mean_squared_error: 25244.8008 - val_loss: 700219200.0000 - val_root_mean_squared_error: 26461.6562\n",
      "Epoch 48/75\n",
      "5/5 [==============================] - 0s 9ms/step - loss: 555958720.0000 - root_mean_squared_error: 23578.7773 - val_loss: 614689920.0000 - val_root_mean_squared_error: 24792.9414\n",
      "Epoch 49/75\n",
      "5/5 [==============================] - 0s 8ms/step - loss: 486257856.0000 - root_mean_squared_error: 22051.2559 - val_loss: 535479776.0000 - val_root_mean_squared_error: 23140.4355\n",
      "Epoch 50/75\n",
      "5/5 [==============================] - 0s 8ms/step - loss: 422214112.0000 - root_mean_squared_error: 20547.8496 - val_loss: 463208864.0000 - val_root_mean_squared_error: 21522.2871\n",
      "Epoch 51/75\n",
      "5/5 [==============================] - 0s 8ms/step - loss: 364763840.0000 - root_mean_squared_error: 19098.7910 - val_loss: 396332192.0000 - val_root_mean_squared_error: 19908.0938\n",
      "Epoch 52/75\n",
      "5/5 [==============================] - 0s 8ms/step - loss: 309741792.0000 - root_mean_squared_error: 17599.4844 - val_loss: 332752480.0000 - val_root_mean_squared_error: 18241.5039\n",
      "Epoch 53/75\n",
      "5/5 [==============================] - 0s 8ms/step - loss: 259494544.0000 - root_mean_squared_error: 16108.8340 - val_loss: 277826336.0000 - val_root_mean_squared_error: 16668.1230\n",
      "Epoch 54/75\n",
      "5/5 [==============================] - 0s 8ms/step - loss: 215014656.0000 - root_mean_squared_error: 14663.3779 - val_loss: 227690512.0000 - val_root_mean_squared_error: 15089.4170\n",
      "Epoch 55/75\n",
      "5/5 [==============================] - 0s 8ms/step - loss: 175398128.0000 - root_mean_squared_error: 13243.7959 - val_loss: 181430352.0000 - val_root_mean_squared_error: 13469.6084\n",
      "Epoch 56/75\n",
      "5/5 [==============================] - 0s 8ms/step - loss: 138860560.0000 - root_mean_squared_error: 11783.9111 - val_loss: 142059248.0000 - val_root_mean_squared_error: 11918.8613\n",
      "Epoch 57/75\n",
      "5/5 [==============================] - 0s 8ms/step - loss: 107525912.0000 - root_mean_squared_error: 10369.4697 - val_loss: 106667464.0000 - val_root_mean_squared_error: 10327.9941\n",
      "Epoch 58/75\n",
      "5/5 [==============================] - 0s 8ms/step - loss: 79693536.0000 - root_mean_squared_error: 8927.1240 - val_loss: 77946200.0000 - val_root_mean_squared_error: 8828.7148\n",
      "Epoch 59/75\n",
      "5/5 [==============================] - 0s 8ms/step - loss: 57873508.0000 - root_mean_squared_error: 7607.4639 - val_loss: 55203852.0000 - val_root_mean_squared_error: 7429.9297\n",
      "Epoch 60/75\n",
      "5/5 [==============================] - 0s 8ms/step - loss: 40062400.0000 - root_mean_squared_error: 6329.4863 - val_loss: 36183060.0000 - val_root_mean_squared_error: 6015.2358\n",
      "Epoch 61/75\n",
      "5/5 [==============================] - 0s 8ms/step - loss: 25914444.0000 - root_mean_squared_error: 5090.6230 - val_loss: 22797568.0000 - val_root_mean_squared_error: 4774.6797\n",
      "Epoch 62/75\n",
      "5/5 [==============================] - 0s 9ms/step - loss: 16012666.0000 - root_mean_squared_error: 4001.5830 - val_loss: 13252836.0000 - val_root_mean_squared_error: 3640.4446\n",
      "Epoch 63/75\n",
      "5/5 [==============================] - 0s 8ms/step - loss: 8962820.0000 - root_mean_squared_error: 2993.7969 - val_loss: 6455627.5000 - val_root_mean_squared_error: 2540.7927\n",
      "Epoch 64/75\n",
      "5/5 [==============================] - 0s 8ms/step - loss: 4174837.5000 - root_mean_squared_error: 2043.2419 - val_loss: 2849553.7500 - val_root_mean_squared_error: 1688.0621\n",
      "Epoch 65/75\n",
      "5/5 [==============================] - 0s 9ms/step - loss: 1770829.2500 - root_mean_squared_error: 1330.7251 - val_loss: 1072224.8750 - val_root_mean_squared_error: 1035.4829\n",
      "Epoch 66/75\n",
      "5/5 [==============================] - 0s 8ms/step - loss: 606777.5625 - root_mean_squared_error: 778.9593 - val_loss: 261729.8281 - val_root_mean_squared_error: 511.5954\n",
      "Epoch 67/75\n",
      "5/5 [==============================] - 0s 8ms/step - loss: 133044.5938 - root_mean_squared_error: 364.7528 - val_loss: 34949.0625 - val_root_mean_squared_error: 186.9467\n",
      "Epoch 68/75\n",
      "5/5 [==============================] - 0s 8ms/step - loss: 15563.3164 - root_mean_squared_error: 124.7530 - val_loss: 2328.0293 - val_root_mean_squared_error: 48.2497\n",
      "Epoch 69/75\n",
      "5/5 [==============================] - 0s 16ms/step - loss: 925.8321 - root_mean_squared_error: 30.4275 - val_loss: 77.3931 - val_root_mean_squared_error: 8.7973\n",
      "Epoch 70/75\n",
      "5/5 [==============================] - 0s 8ms/step - loss: 28.2922 - root_mean_squared_error: 5.3190 - val_loss: 1.3387 - val_root_mean_squared_error: 1.1570\n",
      "Epoch 71/75\n",
      "5/5 [==============================] - 0s 8ms/step - loss: 1.2125 - root_mean_squared_error: 1.1011 - val_loss: 0.8777 - val_root_mean_squared_error: 0.9369\n",
      "Epoch 72/75\n",
      "5/5 [==============================] - 0s 8ms/step - loss: 1.1036 - root_mean_squared_error: 1.0505 - val_loss: 1.2958 - val_root_mean_squared_error: 1.1383\n",
      "Epoch 73/75\n",
      "5/5 [==============================] - 0s 9ms/step - loss: 1.1920 - root_mean_squared_error: 1.0918 - val_loss: 1.4463 - val_root_mean_squared_error: 1.2026\n",
      "Epoch 74/75\n",
      "5/5 [==============================] - 0s 9ms/step - loss: 1.0193 - root_mean_squared_error: 1.0096 - val_loss: 0.9436 - val_root_mean_squared_error: 0.9714\n",
      "Epoch 75/75\n",
      "5/5 [==============================] - 0s 8ms/step - loss: 1.1955 - root_mean_squared_error: 1.0934 - val_loss: 3.1690 - val_root_mean_squared_error: 1.7802\n"
     ]
    }
   ],
   "source": [
    "# The following variables are the hyperparameters.\n",
    "learning_rate = 0.0044\n",
    "epochs = 75\n",
    "batch_size = 5\n",
    "\n",
    "# Split the original training set into a reduced training set and a\n",
    "# validation set. \n",
    "validation_split=0.2\n",
    "\n",
    "# Identify the feature and the label.\n",
    "my_feature= x_train  # the median income on a specific city block.\n",
    "my_label= y_train # the median value of a house on a specific city block.\n",
    "# That is, you're going to create a model that predicts house value based \n",
    "# solely on the neighborhood's median income.  \n",
    "\n",
    "# Discard any pre-existing version of the model.\n",
    "my_model = None\n",
    "\n",
    "# Invoke the functions to build and train the model.\n",
    "my_model = build_model(learning_rate)\n",
    "epochs, rmse, history = train_model(my_model, my_feature, \n",
    "                                    my_label, epochs, batch_size, \n",
    "                                    validation_split)\n",
    "\n"
   ]
  },
  {
   "cell_type": "code",
   "execution_count": 115,
   "metadata": {},
   "outputs": [
    {
     "name": "stdout",
     "output_type": "stream",
     "text": [
      "2/2 [==============================] - 0s 4ms/step - loss: 4.7496 - root_mean_squared_error: 2.1793\n"
     ]
    }
   ],
   "source": [
    "\n",
    "results = my_model.evaluate(x_test, y_test, batch_size=batch_size)"
   ]
  },
  {
   "cell_type": "code",
   "execution_count": 113,
   "metadata": {},
   "outputs": [
    {
     "name": "stdout",
     "output_type": "stream",
     "text": [
      "110360.99281710386\n"
     ]
    },
    {
     "data": {
      "image/png": "[encoded data removed]",
      "text/plain": [
       "<Figure size 640x480 with 1 Axes>"
      ]
     },
     "metadata": {},
     "output_type": "display_data"
    }
   ],
   "source": [
    "plot_the_loss_curve(epochs, history[\"root_mean_squared_error\"], \n",
    "                    history[\"val_root_mean_squared_error\"])"
   ]
  }
 ],
 "metadata": {
  "kernelspec": {
   "display_name": "Python 3",
   "language": "python",
   "name": "python3"
  },
  "language_info": {
   "codemirror_mode": {
    "name": "ipython",
    "version": 3
   },
   "file_extension": ".py",
   "mimetype": "text/x-python",
   "name": "python",
   "nbconvert_exporter": "python",
   "pygments_lexer": "ipython3",
   "version": "3.11.5"
  }
 },
 "nbformat": 4,
 "nbformat_minor": 2
}
